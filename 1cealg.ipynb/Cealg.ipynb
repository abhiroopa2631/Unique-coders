{
  "nbformat": 4,
  "nbformat_minor": 0,
  "metadata": {
    "colab": {
      "provenance": []
    },
    "kernelspec": {
      "name": "python3",
      "display_name": "Python 3"
    },
    "language_info": {
      "name": "python"
    }
  },
  "cells": [
    {
      "cell_type": "code",
      "execution_count": 7,
      "metadata": {
        "colab": {
          "base_uri": "https://localhost:8080/"
        },
        "id": "bnt0t7UbaS8W",
        "outputId": "e7a180c3-9b71-4a7b-b10f-691f340042c5"
      },
      "outputs": [
        {
          "output_type": "stream",
          "name": "stdout",
          "text": [
            "\n",
            " The Given Training Data Set\n",
            "['sunny', 'warm', 'normal', 'strong', 'warm', 'same', 'Yes']\n",
            "['sunny', 'warm', 'high', 'strong', 'warm', 'same', 'Yes']\n",
            "['rainy', 'cold', 'high', 'strong', 'warm', 'change', 'No']\n",
            "['sunny', 'warm', 'high', 'strong', 'cool', 'change', 'Yes']\n",
            "\n",
            " The initial value of hypothesis: \n",
            "\n",
            " The most specific hypothesis S0 : [0,0,0,0,0,0]\n",
            " \n",
            " The most general hypothesis G0 : [?,?,?,?,?,?]\n",
            "\n",
            " Candidate Elimination algorithm Hypotheses Version Space Computation\n",
            "\n",
            "\n",
            " Candidate Elimination algorithm Hypotheses Version Space Computation\n",
            "\n",
            "\n",
            " Candidate Elimination algorithm Hypotheses Version Space Computation\n",
            "\n",
            "\n",
            " Candidate Elimination algorithm Hypotheses Version Space Computation\n",
            "\n",
            "\n",
            " Candidate Elimination algorithm Hypotheses Version Space Computation\n",
            "\n",
            "\n",
            " Candidate Elimination algorithm Hypotheses Version Space Computation\n",
            "\n",
            "----------------------------------------------------------------------------- \n",
            " For Training Example No :1 the hypothesis is S1  ['sunny', 'warm', 'normal', 'strong', 'warm', 'same']\n",
            " For Training Example No :1 the hypothesis is G1  ['?', '?', '?', '?', '?', '?']\n",
            "----------------------------------------------------------------------------- \n",
            " For Training Example No :2 the hypothesis is S2  ['sunny', 'warm', '?', 'strong', 'warm', 'same']\n",
            " For Training Example No :2 the hypothesis is G2  ['?', '?', '?', '?', '?', '?']\n",
            "----------------------------------------------------------------------------- \n",
            " For Training Example No :3 the hypothesis is S3  ['sunny', 'warm', '?', 'strong', 'warm', 'same']\n",
            " For Training Example No :3 the hypothesis is G3 [['sunny', '?', '?', '?', '?', '?'], ['?', 'warm', '?', '?', '?', '?'], ['?', '?', '?', '?', '?', 'same']]\n",
            "----------------------------------------------------------------------------- \n",
            " For Training Example No :4 the hypothesis is S4  ['sunny', 'warm', '?', 'strong', '?', '?']\n",
            " For  Positive Training Example No :4 the hypothesis is G4 [['sunny', '?', '?', '?', '?', '?'], ['?', 'warm', '?', '?', '?', '?']]\n"
          ]
        }
      ],
      "source": [
        "import csv\n",
        "a = []\n",
        "print(\"\\n The Given Training Data Set\")\n",
        "with open('enjoysport.csv', 'r') as csvFile:\n",
        "    reader = csv.reader(csvFile)\n",
        "    for row in reader:\n",
        "        a.append (row)\n",
        "        print(row)\n",
        "num_attributes = len(a[0])-1\n",
        "print(\"\\n The initial value of hypothesis: \")\n",
        "S = ['0'] * num_attributes\n",
        "G = ['?'] * num_attributes\n",
        "print (\"\\n The most specific hypothesis S0 : [0,0,0,0,0,0]\")\n",
        "print (\" \\n The most general hypothesis G0 : [?,?,?,?,?,?]\")\n",
        "for j in range(0,num_attributes):\n",
        "    S[j]=a[0][j];\n",
        "    print(\"\\n Candidate Elimination algorithm Hypotheses Version Space Computation\\n\")\n",
        "temp=[]\n",
        "for i in range(0,len(a)):\n",
        "    if a[i][num_attributes]=='Yes':\n",
        "        for j in range(0,num_attributes):\n",
        "            if a[i][j]!=S[j]:\n",
        "                S[j]='?'\n",
        "        for j in range(0,num_attributes):\n",
        "            for k in range(1,len(temp)):\n",
        "                if temp[k][j]!='?' and temp[k][j]!=S[j]:\n",
        "                    del temp[k]\n",
        "        print(\"----------------------------------------------------------------------------- \")\n",
        "        print(\" For Training Example No :{0} the hypothesis is S{0} \".format(i+1),S)\n",
        "        if (len(temp)==0):\n",
        "            print(\" For Training Example No :{0} the hypothesis is G{0} \".format(i+1),G)\n",
        "        else:\n",
        "            print(\" For  Positive Training Example No :{0} the hypothesis is G{0}\".format(i+1),temp)\n",
        "    if a[i][num_attributes]=='No':\n",
        "        for j in range(0,num_attributes):\n",
        "            if S[j] != a[i][j] and S[j]!= '?':\n",
        "                G[j]=S[j]\n",
        "                temp.append(G)\n",
        "                G = ['?'] * num_attributes\n",
        "        print(\"----------------------------------------------------------------------------- \")\n",
        "        print(\" For Training Example No :{0} the hypothesis is S{0} \".format(i+1),S)\n",
        "        print(\" For Training Example No :{0} the hypothesis is G{0}\".format(i+1),temp)"
      ]
    }
  ]
}